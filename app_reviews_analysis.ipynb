{
 "cells": [
  {
   "cell_type": "markdown",
   "metadata": {},
   "source": [
    "# Análisis de Reviews de Apps\n",
    "\n",
    "Este notebook analiza las reviews de apps extraídas de Google Play y App Store. Se realizan análisis de sentimiento, clasificación de reviews y visualización de resultados."
   ]
  },
  {
   "cell_type": "markdown",
   "metadata": {},
   "source": [
    "## Instalación de requerimientos\n",
    "\n"
   ]
  },
  {
   "cell_type": "code",
   "execution_count": null,
   "metadata": {},
   "outputs": [],
   "source": [
    "# Python 3.9.6\n",
    "!pip install google-play-scraper sentence-transformers matplotlib seaborn pandas feedparser transformers nltk wordcloud pysentimiento"
   ]
  },
  {
   "cell_type": "markdown",
   "metadata": {},
   "source": [
    "## Importación de librerías"
   ]
  },
  {
   "cell_type": "code",
   "execution_count": null,
   "metadata": {},
   "outputs": [],
   "source": [
    "import pandas as pd\n",
    "import matplotlib.pyplot as plt\n",
    "import seaborn as sns\n",
    "from wordcloud import WordCloud\n",
    "\n",
    "# Importar todas las funciones y variables útiles\n",
    "from helpers import (\n",
    "    get_playstore_reviews,\n",
    "    get_itunes_reviews,\n",
    "    analyze_sentiment,\n",
    "    classify_keywords_with_sentiment,\n",
    "    extract_topics,\n",
    "    classify_review_topic,\n",
    "    preprocess_text,\n",
    "    model,  # Global model for embeddings\n",
    "    keyword_embeddings,  # Precomputed embeddings for keywords\n",
    "    topic_seeds  # Seed words for bug topics\n",
    ")\n",
    "\n",
    "sns.set(style=\"whitegrid\")"
   ]
  },
  {
   "cell_type": "markdown",
   "metadata": {},
   "source": [
    "## Apps a analizar\n",
    "\n"
   ]
  },
  {
   "cell_type": "code",
   "execution_count": null,
   "metadata": {},
   "outputs": [],
   "source": [
    "# Definir un diccionario con los IDs de cada app\n",
    "BELO_IDS = {\n",
    "    \"play_store_id\": \"com.belo.android\",\n",
    "    \"app_store_id\": \"1575614708\"\n",
    "}\n",
    "ASTROPAY_IDS = {\n",
    "    \"play_store_id\": \"com.astropaycard.android\",\n",
    "    \"app_store_id\": \"1128476912\"\n",
    "}\n",
    "\n",
    "apps = {\n",
    "    \"belo\": BELO_IDS,\n",
    "    # \"astropay\": ASTROPAY_IDS\n",
    "}\n",
    "\n",
    "# Lista para almacenar los DataFrames de reviews\n",
    "all_reviews_list = []\n",
    "\n",
    "# Iterar sobre cada app y obtener reviews de ambas tiendas\n",
    "for app_name, ids in apps.items():\n",
    "    # Reviews desde Google Play\n",
    "    play_reviews = get_playstore_reviews(ids[\"play_store_id\"])\n",
    "    if not play_reviews.empty:\n",
    "        play_reviews[\"app\"] = app_name\n",
    "        play_reviews[\"store\"] = \"Play Store\"\n",
    "        all_reviews_list.append(play_reviews)\n",
    "    \n",
    "    # Reviews desde App Store (iTunes RSS)\n",
    "    itunes_reviews = get_itunes_reviews(ids[\"app_store_id\"])\n",
    "    if not itunes_reviews.empty:\n",
    "        itunes_reviews[\"app\"] = app_name\n",
    "        itunes_reviews[\"store\"] = \"App Store\"\n",
    "        all_reviews_list.append(itunes_reviews)\n",
    "\n",
    "# Concatenar todas las reviews en un único DataFrame\n",
    "all_reviews = pd.concat(all_reviews_list, ignore_index=True)"
   ]
  },
  {
   "cell_type": "markdown",
   "metadata": {},
   "source": [
    "## Analisis de sentimiento"
   ]
  },
  {
   "cell_type": "code",
   "execution_count": null,
   "metadata": {},
   "outputs": [],
   "source": [
    "# Análisis de sentimiento usando pysentimiento\n",
    "all_reviews[\"sentiment\"] = all_reviews[\"content\"].apply(analyze_sentiment)\n",
    "\n",
    "# Mostrar los primeros 10 reseñas\n",
    "all_reviews.head(10)"
   ]
  },
  {
   "cell_type": "markdown",
   "metadata": {},
   "source": [
    "### Visualizacion del analisis de sentimiento"
   ]
  },
  {
   "cell_type": "code",
   "execution_count": null,
   "metadata": {},
   "outputs": [],
   "source": [
    "# Agrupar por app y sentimiento\n",
    "sentiment_counts_app = all_reviews.groupby(['app', 'sentiment']).size().reset_index(name='Count')\n",
    "\n",
    "plt.figure(figsize=(10, 6))\n",
    "sns.barplot(x='sentiment', y='Count', hue='app', data=sentiment_counts_app, palette='viridis')\n",
    "plt.title(\"Distribución de Sentimientos por App\")\n",
    "plt.xlabel(\"Sentimiento\")\n",
    "plt.ylabel(\"Cantidad de Reviews\")\n",
    "plt.show()\n",
    "\n",
    "# Agrupar por semana, app y sentimiento\n",
    "all_reviews['week'] = pd.to_datetime(all_reviews['date']).dt.to_period(\"W\").apply(lambda r: r.start_time)\n",
    "weekly_sentiment_app = all_reviews.groupby(['week', 'app', 'sentiment']).size().reset_index(name='Count')\n",
    "\n",
    "plt.figure(figsize=(12, 6))\n",
    "sns.lineplot(x='week', y='Count', hue='sentiment', style='app', data=weekly_sentiment_app, markers=True)\n",
    "plt.title(\"Evolución Semanal de los Sentimientos por App\")\n",
    "plt.xlabel(\"Semana\")\n",
    "plt.ylabel(\"Cantidad de Reviews\")\n",
    "plt.xticks(rotation=45)\n",
    "plt.legend(title=\"Sentimiento / App\")\n",
    "plt.show()\n",
    "\n",
    "# Mapear el sentimiento a un score numérico\n",
    "sentiment_map = {\"POS\": 1, \"NEU\": 0, \"NEG\": -1}\n",
    "all_reviews[\"sentiment_score\"] = all_reviews[\"sentiment\"].map(sentiment_map)\n",
    "\n",
    "# Visualización: Rating vs Sentiment Score\n",
    "plt.figure(figsize=(10, 6))\n",
    "# Boxplot para mostrar la distribución de 'sentiment_score' por rating\n",
    "sns.boxplot(x=\"rating\", y=\"sentiment_score\", data=all_reviews, hue=\"app\", showfliers=False)\n",
    "# Stripplot para mostrar cada punto\n",
    "sns.stripplot(x=\"rating\", y=\"sentiment_score\", data=all_reviews, hue=\"app\", \n",
    "              dodge=True, alpha=0.5, color='black', jitter=True)\n",
    "\n",
    "plt.title(\"Distribución de Sentiment Score por Rating (posible ironía)\")\n",
    "plt.xlabel(\"Rating\")\n",
    "plt.ylabel(\"Sentiment Score\")\n",
    "plt.legend(title=\"App\", bbox_to_anchor=(1.05, 1), loc='upper left')\n",
    "plt.show()"
   ]
  },
  {
   "cell_type": "markdown",
   "metadata": {},
   "source": [
    "## Extraccion de bugs y features\n",
    "\n",
    "Extraccion de reporte de bugs y solicitudes de features"
   ]
  },
  {
   "cell_type": "code",
   "execution_count": null,
   "metadata": {},
   "outputs": [],
   "source": [
    "# Clasificar cada review en bug/feature utilizando la función importada\n",
    "tags = all_reviews.apply(classify_keywords_with_sentiment, axis=1)\n",
    "all_reviews = pd.concat([all_reviews, tags], axis=1)\n",
    "\n",
    "# Mostrar los primeros 10 reseñas con su clasificación\n",
    "display(all_reviews[['content', 'sentiment', 'is_bug', 'is_feature']].head(10))\n"
   ]
  },
  {
   "cell_type": "markdown",
   "metadata": {},
   "source": [
    "### Listados de features y bugs"
   ]
  },
  {
   "cell_type": "code",
   "execution_count": null,
   "metadata": {},
   "outputs": [],
   "source": [
    "# Listado de Feature Requests\n",
    "features_reviews = all_reviews[all_reviews['is_feature'] == True]\n",
    "print(\"Listado de Feature Requests:\")\n",
    "display(features_reviews[['date', 'app', 'appVersion', 'store', 'content', 'sentiment']].sort_values(by='date', ascending=False).reset_index(drop=True))\n",
    "\n",
    "# Listado de Bug Reports para la app 'belo'\n",
    "bugs_reviews = all_reviews[(all_reviews['is_bug'] == True) & (all_reviews['app'] == 'belo')]\n",
    "print(\"Listado de Bug Reports:\")\n",
    "display(bugs_reviews[['date', 'app', 'appVersion', 'store', 'content', 'sentiment']].sort_values(by='date', ascending=False).reset_index(drop=True))"
   ]
  },
  {
   "cell_type": "markdown",
   "metadata": {},
   "source": [
    "## Topicos de las reviews"
   ]
  },
  {
   "cell_type": "code",
   "execution_count": null,
   "metadata": {},
   "outputs": [],
   "source": [
    "# Asignar tópico a cada review\n",
    "all_reviews[\"topic\"] = all_reviews[\"content\"].apply(classify_review_topic)\n",
    "\n",
    "# Mostrar los primeros 10 reseñas con su tópico\n",
    "display(all_reviews[['content', 'topic']].head(10))\n"
   ]
  },
  {
   "cell_type": "markdown",
   "metadata": {},
   "source": [
    "### Visualizacion de los topicos\n",
    "Distribucion de reviews por topico"
   ]
  },
  {
   "cell_type": "code",
   "execution_count": null,
   "metadata": {},
   "outputs": [],
   "source": [
    "# Gráfico de barras: Distribución de reviews por topico\n",
    "# Todos los topicos\n",
    "# topic_counts = all_reviews[\"topic\"].value_counts()\n",
    "\n",
    "# Bug Reports\n",
    "topic_counts = all_reviews[all_reviews[\"is_bug\"] == True][\"topic\"].value_counts()\n",
    "\n",
    "# Feature Requests\n",
    "# topic_counts = all_reviews[all_reviews[\"is_feature\"] == True][\"topic\"].value_counts()\n",
    "\n",
    "plt.figure(figsize=(10, 6))\n",
    "sns.barplot(x=topic_counts.index, y=topic_counts.values, palette=\"viridis\")\n",
    "plt.title(\"Distribución de Reviews por Tema\")\n",
    "plt.xlabel(\"Tema\")\n",
    "plt.ylabel(\"Cantidad de Reviews\")\n",
    "plt.xticks(rotation=45)\n",
    "plt.show()\n",
    "\n",
    "# Generar y visualizar un Word Cloud para cada tema\n",
    "# for topic in topic_counts.index:\n",
    "#     # Combina el contenido de las reviews del tema\n",
    "#     text = \" \".join(all_reviews[all_reviews[\"topic\"] == topic][\"content\"].tolist())\n",
    "    \n",
    "#     # Generar la nube de palabras\n",
    "#     wordcloud = WordCloud(width=800, height=400, background_color=\"white\", colormap=\"viridis\").generate(text)\n",
    "    \n",
    "#     # Visualizar la nube de palabras\n",
    "#     plt.figure(figsize=(10, 5))\n",
    "#     plt.imshow(wordcloud, interpolation=\"bilinear\")\n",
    "#     plt.axis(\"off\")\n",
    "#     plt.title(f\"Word Cloud para el tema: {topic}\")\n",
    "#     plt.show()"
   ]
  },
  {
   "cell_type": "markdown",
   "metadata": {},
   "source": [
    "## Visualizacion de reviews\n",
    "\n",
    "Evolicion semanal del promedio de rating, cantidad de reviews, sentimiento positivo y sentimiento negativo"
   ]
  },
  {
   "cell_type": "code",
   "execution_count": null,
   "metadata": {},
   "outputs": [],
   "source": [
    "# Asegurarse de que las columnas 'sentiment', 'is_bug' e 'is_feature' existan\n",
    "for col in ['sentiment', 'is_bug', 'is_feature']:\n",
    "    if col not in all_reviews.columns:\n",
    "         all_reviews[col] = None  \n",
    "\n",
    "weekly_summary = all_reviews.groupby(['app', 'store', 'week']).agg(\n",
    "    avg_rating=('rating', 'mean'),\n",
    "    review_count=('rating', 'count'),\n",
    "    positive_sentiment=('sentiment', lambda x: (x.str.contains(\"POS\", case=False, na=False)).sum()),\n",
    "    negative_sentiment=('sentiment', lambda x: (x.str.contains(\"NEG\", case=False, na=False)).sum()),\n",
    "    feature_requests=('is_feature', 'sum'),\n",
    "    bug_reports=('is_bug', 'sum')\n",
    ").reset_index()\n",
    "\n",
    "# Visualización de la evolución semanal\n",
    "plt.figure(figsize=(12, 8))\n",
    "\n",
    "# Subplot 1: Promedio de Rating por App\n",
    "plt.subplot(2, 2, 1)\n",
    "sns.lineplot(data=weekly_summary, x='week', y='avg_rating', hue='app')\n",
    "plt.title('Promedio de Rating por App (semanal)')\n",
    "plt.xlabel('Semana')\n",
    "plt.ylabel('Promedio de Rating')\n",
    "\n",
    "# Subplot 2: Cantidad de Reviews por App\n",
    "plt.subplot(2, 2, 2)\n",
    "sns.lineplot(data=weekly_summary, x='week', y='review_count', hue='app')\n",
    "plt.title('Cantidad de Reviews por App (semanal)')\n",
    "plt.xlabel('Semana')\n",
    "plt.ylabel('Cantidad de Reviews')\n",
    "\n",
    "# Subplot 3: Sentimientos positivos por App\n",
    "plt.subplot(2, 2, 3)\n",
    "sns.lineplot(data=weekly_summary, x='week', y='positive_sentiment', hue='app')\n",
    "plt.title('Sentimientos Positivos por App (semanal)')\n",
    "plt.xlabel('Semana')\n",
    "plt.ylabel('Cantidad de Reviews')\n",
    "\n",
    "# Subplot 4: Sentimientos negativos por App\n",
    "plt.subplot(2, 2, 4)\n",
    "sns.lineplot(data=weekly_summary, x='week', y='negative_sentiment', hue='app')\n",
    "plt.title('Sentimientos Negativos por App (semanal)')\n",
    "plt.xlabel('Semana')\n",
    "plt.ylabel('Cantidad de Reviews')\n",
    "\n",
    "plt.tight_layout()\n",
    "plt.show()"
   ]
  },
  {
   "cell_type": "markdown",
   "metadata": {},
   "source": [
    "## Guardar resultados"
   ]
  },
  {
   "cell_type": "code",
   "execution_count": null,
   "metadata": {},
   "outputs": [],
   "source": [
    "# Guardar todas las reviews con análisis de sentimiento\n",
    "all_reviews.to_csv(\"all_reviews.csv\", index=False)\n",
    "\n",
    "# Guardar el resumen semanal\n",
    "weekly_summary.to_csv(\"weekly_summary.csv\", index=False)\n",
    "\n",
    "# Guardar feature requests\n",
    "features_reviews.to_csv(\"features_reviews.csv\", index=False)\n",
    "\n",
    "# Guardar bug reports\n",
    "bugs_reviews.to_csv(\"bugs_reviews.csv\", index=False)"
   ]
  }
 ],
 "metadata": {
  "kernelspec": {
   "display_name": ".venv",
   "language": "python",
   "name": "python3"
  },
  "language_info": {
   "codemirror_mode": {
    "name": "ipython",
    "version": 3
   },
   "file_extension": ".py",
   "mimetype": "text/x-python",
   "name": "python",
   "nbconvert_exporter": "python",
   "pygments_lexer": "ipython3",
   "version": "3.9.6"
  }
 },
 "nbformat": 4,
 "nbformat_minor": 4
}
